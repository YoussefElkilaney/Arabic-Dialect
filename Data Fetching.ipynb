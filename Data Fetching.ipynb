{
 "cells": [
  {
   "cell_type": "markdown",
   "id": "31b255be",
   "metadata": {},
   "source": [
    "# Data fetching"
   ]
  },
  {
   "cell_type": "markdown",
   "id": "4d4acb74",
   "metadata": {},
   "source": [
    "#### get all data\n",
    "\n",
    "After fetching the data, I stored it in a file for offline usage and it's better when trying many experiments."
   ]
  },
  {
   "cell_type": "code",
   "execution_count": null,
   "id": "4fd1ddc6",
   "metadata": {},
   "outputs": [],
   "source": [
    "import pandas as pd\n",
    "import requests\n",
    "import json\n",
    "\n",
    "try:\n",
    "    rawDataFile = open('arabicDialects.json', 'r', encoding='utf-8')\n",
    "except Exception:\n",
    "    datasetIds = pd.read_csv('dialect_dataset.csv').set_index('id')\n",
    "\n",
    "    lnk = 'https://recruitment.aimtechnologies.co/ai-tasks'\n",
    "\n",
    "    rawData = {}\n",
    "    for i in range(0, len(data)+1, 1000):\n",
    "        chunk = datasetIds.iloc[i:i+1000]\n",
    "        body = list(map(str, chunk.index))\n",
    "        body = json.dumps(body)\n",
    "    #     print(i); assert len(body.split(',')) == 1000, 'not exactly 1000'\n",
    "        res = requests.post(lnk, body)\n",
    "        res = json.loads(res.text)\n",
    "        rawData.update(res)\n",
    "\n",
    "    with open(f'arabicDialects.json', 'w+', encoding='utf-8') as rawDataFile:\n",
    "        json.dump(rawData, rawDataFile)"
   ]
  }
 ],
 "metadata": {
  "kernelspec": {
   "display_name": "Python 3 (ipykernel)",
   "language": "python",
   "name": "python3"
  },
  "language_info": {
   "codemirror_mode": {
    "name": "ipython",
    "version": 3
   },
   "file_extension": ".py",
   "mimetype": "text/x-python",
   "name": "python",
   "nbconvert_exporter": "python",
   "pygments_lexer": "ipython3",
   "version": "3.9.6"
  }
 },
 "nbformat": 4,
 "nbformat_minor": 5
}
